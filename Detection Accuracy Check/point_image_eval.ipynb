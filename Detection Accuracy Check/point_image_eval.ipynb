{
 "cells": [
  {
   "cell_type": "code",
   "execution_count": 2,
   "metadata": {},
   "outputs": [
    {
     "name": "stdout",
     "output_type": "stream",
     "text": [
      "Average Distance in loc 1: 8.53781259894471\n"
     ]
    }
   ],
   "source": [
    "import numpy as np\n",
    "import matplotlib.pyplot as plt\n",
    "\n",
    "# Define the reference point\n",
    "reference_point = np.array([193, 271])\n",
    "\n",
    "# Initialize a list to store distances\n",
    "distances = []\n",
    "\n",
    "# Read the file and calculate distances\n",
    "file_path = \"/home/sina/env_prediction_project/trajectory_detection/Detection Accuracy Check/image_eval_dataset/points_loc1.txt\"\n",
    "with open(file_path, \"r\") as file:\n",
    "    for line in file:\n",
    "        columns = line.strip().split(\"\\t\")\n",
    "        try:\n",
    "            x, y = float(columns[-2]), float(columns[-1])\n",
    "            point = np.array([x, y])\n",
    "            distance = np.linalg.norm(point - reference_point)\n",
    "            distances.append(distance)\n",
    "        except ValueError:\n",
    "            # Skip lines with invalid data\n",
    "            print(\"Invalid data:\", line)\n",
    "            continue\n",
    "\n",
    "# Calculate the average distance\n",
    "average_distance = np.mean(distances)\n",
    "print(\"Average Distance in loc 1:\", average_distance)"
   ]
  },
  {
   "cell_type": "code",
   "execution_count": 4,
   "metadata": {},
   "outputs": [
    {
     "name": "stdout",
     "output_type": "stream",
     "text": [
      "Average Distance in loc 2: 9.259232830503045\n"
     ]
    }
   ],
   "source": [
    "# Define the reference point\n",
    "reference_point = np.array([193, 151])\n",
    "\n",
    "# Initialize a list to store distances\n",
    "distances = []\n",
    "\n",
    "# Read the file and calculate distances\n",
    "file_path = \"/home/sina/env_prediction_project/trajectory_detection/Detection Accuracy Check/image_eval_dataset/points_loc2.txt\"\n",
    "with open(file_path, \"r\") as file:\n",
    "    for line in file:\n",
    "        columns = line.strip().split(\"\\t\")\n",
    "        try:\n",
    "            x, y = float(columns[-2]), float(columns[-1])\n",
    "            point = np.array([x, y])\n",
    "            distance = np.linalg.norm(point - reference_point)\n",
    "            distances.append(distance)\n",
    "        except ValueError:\n",
    "            # Skip lines with invalid data\n",
    "            print(\"Invalid data:\", line)\n",
    "            continue\n",
    "\n",
    "# Calculate the average distance\n",
    "average_distance = np.mean(distances)\n",
    "print(\"Average Distance in loc 2:\", average_distance)"
   ]
  },
  {
   "cell_type": "code",
   "execution_count": 5,
   "metadata": {},
   "outputs": [
    {
     "name": "stdout",
     "output_type": "stream",
     "text": [
      "Average Distance in loc 3: 10.01450752051745\n"
     ]
    }
   ],
   "source": [
    "# Define the reference point\n",
    "reference_point = np.array([133, 331])\n",
    "\n",
    "# Initialize a list to store distances\n",
    "distances = []\n",
    "\n",
    "# Read the file and calculate distances\n",
    "file_path = \"/home/sina/env_prediction_project/trajectory_detection/Detection Accuracy Check/image_eval_dataset/points_loc3.txt\"\n",
    "with open(file_path, \"r\") as file:\n",
    "    for line in file:\n",
    "        columns = line.strip().split(\"\\t\")\n",
    "        try:\n",
    "            x, y = float(columns[-2]), float(columns[-1])\n",
    "            point = np.array([x, y])\n",
    "            distance = np.linalg.norm(point - reference_point)\n",
    "            distances.append(distance)\n",
    "        except ValueError:\n",
    "            # Skip lines with invalid data\n",
    "            print(\"Invalid data:\", line)\n",
    "            continue\n",
    "\n",
    "# Calculate the average distance\n",
    "average_distance = np.mean(distances)\n",
    "print(\"Average Distance in loc 3:\", average_distance)"
   ]
  },
  {
   "cell_type": "code",
   "execution_count": 6,
   "metadata": {},
   "outputs": [
    {
     "name": "stdout",
     "output_type": "stream",
     "text": [
      "Average Distance in loc 4: 13.482207319515249\n"
     ]
    }
   ],
   "source": [
    "# Define the reference point\n",
    "reference_point = np.array([73, 151])\n",
    "\n",
    "# Initialize a list to store distances\n",
    "distances = []\n",
    "\n",
    "# Read the file and calculate distances\n",
    "file_path = \"/home/sina/env_prediction_project/trajectory_detection/Detection Accuracy Check/image_eval_dataset/points_loc4.txt\"\n",
    "with open(file_path, \"r\") as file:\n",
    "    for line in file:\n",
    "        columns = line.strip().split(\"\\t\")\n",
    "        try:\n",
    "            x, y = float(columns[-2]), float(columns[-1])\n",
    "            point = np.array([x, y])\n",
    "            distance = np.linalg.norm(point - reference_point)\n",
    "            distances.append(distance)\n",
    "        except ValueError:\n",
    "            # Skip lines with invalid data\n",
    "            print(\"Invalid data:\", line)\n",
    "            continue\n",
    "\n",
    "# Calculate the average distance\n",
    "average_distance = np.mean(distances)\n",
    "print(\"Average Distance in loc 4:\", average_distance)"
   ]
  },
  {
   "cell_type": "code",
   "execution_count": 7,
   "metadata": {},
   "outputs": [
    {
     "name": "stdout",
     "output_type": "stream",
     "text": [
      "Average Distance in loc 5: 13.210248892037049\n"
     ]
    }
   ],
   "source": [
    "# Define the reference point\n",
    "reference_point = np.array([373, 271])\n",
    "\n",
    "# Initialize a list to store distances\n",
    "distances = []\n",
    "\n",
    "# Read the file and calculate distances\n",
    "file_path = \"/home/sina/env_prediction_project/trajectory_detection/Detection Accuracy Check/image_eval_dataset/points_loc5.txt\"\n",
    "with open(file_path, \"r\") as file:\n",
    "    for line in file:\n",
    "        columns = line.strip().split(\"\\t\")\n",
    "        try:\n",
    "            x, y = float(columns[-2]), float(columns[-1])\n",
    "            point = np.array([x, y])\n",
    "            distance = np.linalg.norm(point - reference_point)\n",
    "            distances.append(distance)\n",
    "        except ValueError:\n",
    "            # Skip lines with invalid data\n",
    "            print(\"Invalid data:\", line)\n",
    "            continue\n",
    "\n",
    "# Calculate the average distance\n",
    "average_distance = np.mean(distances)\n",
    "print(\"Average Distance in loc 5:\", average_distance)"
   ]
  },
  {
   "cell_type": "markdown",
   "metadata": {},
   "source": [
    "| Location | Reference Point (x, y) | Average Distance (cm) |\n",
    "|----------|-------------------------|------------------------|\n",
    "| loc 1    | (193, 271)             | 8.54                   |\n",
    "| loc 2    | (193, 151)             | 9.26                   |\n",
    "| loc 3    | (133, 331)             | 10.01                  |\n",
    "| loc 4    | (73, 151)              | 13.48                  |\n",
    "| loc 5    | (373, 271)             | 13.21                  |"
   ]
  },
  {
   "cell_type": "code",
   "execution_count": 18,
   "metadata": {},
   "outputs": [
    {
     "data": {
      "image/png": "[encoded data removed]",
      "text/plain": [
       "<Figure size 800x600 with 1 Axes>"
      ]
     },
     "metadata": {},
     "output_type": "display_data"
    }
   ],
   "source": [
    "# Data\n",
    "locations = [\"loc 1\", \"loc 2\", \"loc 3\", \"loc 4\", \"loc 5\"]\n",
    "reference_points = [(193, 271), (193, 151), (133, 331), (73, 151), (373, 271)]\n",
    "average_distances = [8.54, 9.26, 10.01, 13.48, 13.21]\n",
    "\n",
    "# Create the plot\n",
    "fig, ax = plt.subplots(figsize=(8, 6))\n",
    "\n",
    "# Plot each reference point with a circle representing the average distance\n",
    "for loc, (x, y), dist in zip(locations, reference_points, average_distances):\n",
    "    # Plot the reference point\n",
    "    ax.scatter(x, y, color='blue')\n",
    "    # Draw a circle around the reference point\n",
    "    circle = plt.Circle((x, y), dist, color='red', fill=False, linestyle='--')\n",
    "    ax.add_artist(circle)\n",
    "    # Add the location label beside the point\n",
    "    ax.text(x + 15, y + 15, loc, color='black', fontsize=10)\n",
    "\n",
    "# Add labels and adjust the plot\n",
    "ax.set_title(\"Reference Points with Inaccuracy Circles\")\n",
    "ax.set_xlabel(\"X Coordinate\")\n",
    "ax.set_ylabel(\"Y Coordinate\")\n",
    "ax.set_aspect('equal', adjustable='datalim')\n",
    "\n",
    "plt.gca().invert_yaxis()  # Invert Y to match video coordinates\n",
    "plt.gca().invert_xaxis()  # Invert X to match video coordinates\n",
    "\n",
    "# Show the plot\n",
    "plt.grid(True)\n",
    "plt.show()"
   ]
  }
 ],
 "metadata": {
  "kernelspec": {
   "display_name": "yolotracker",
   "language": "python",
   "name": "python3"
  },
  "language_info": {
   "codemirror_mode": {
    "name": "ipython",
    "version": 3
   },
   "file_extension": ".py",
   "mimetype": "text/x-python",
   "name": "python",
   "nbconvert_exporter": "python",
   "pygments_lexer": "ipython3",
   "version": "3.13.2"
  }
 },
 "nbformat": 4,
 "nbformat_minor": 2
}
